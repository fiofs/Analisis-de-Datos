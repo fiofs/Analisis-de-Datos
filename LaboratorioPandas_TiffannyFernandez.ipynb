{
  "nbformat": 4,
  "nbformat_minor": 0,
  "metadata": {
    "colab": {
      "provenance": [],
      "authorship_tag": "ABX9TyNaAWtIhAKsrdoOBwg/m6As",
      "include_colab_link": true
    },
    "kernelspec": {
      "name": "python3",
      "display_name": "Python 3"
    },
    "language_info": {
      "name": "python"
    }
  },
  "cells": [
    {
      "cell_type": "markdown",
      "metadata": {
        "id": "view-in-github",
        "colab_type": "text"
      },
      "source": [
        "<a href=\"https://colab.research.google.com/github/fiofs/Analisis-de-Datos/blob/main/LaboratorioPandas_TiffannyFernandez.ipynb\" target=\"_parent\"><img src=\"https://colab.research.google.com/assets/colab-badge.svg\" alt=\"Open In Colab\"/></a>"
      ]
    },
    {
      "cell_type": "markdown",
      "source": [
        "Ejemplo 1"
      ],
      "metadata": {
        "id": "jPYw--rVuDkO"
      }
    },
    {
      "cell_type": "code",
      "source": [
        "import pandas as pd\n",
        "\n",
        "data = {'Country': ['Costa Rica', 'India', 'Brazil'],\n",
        "      'Capital': ['San Jose', 'New Delhi', 'Brasilia'],\n",
        "      'Capital': [4500000, 1303171035, 207847528]}\n",
        "\n",
        "df = pd.DataFrame(data, columns = ['Country', 'Capital', 'Population'])\n",
        "print(df)"
      ],
      "metadata": {
        "colab": {
          "base_uri": "https://localhost:8080/"
        },
        "id": "Ap_GUY0uqeOM",
        "outputId": "9013f0b4-2b2c-48c7-c57a-a9128e8219ce"
      },
      "execution_count": null,
      "outputs": [
        {
          "output_type": "stream",
          "name": "stdout",
          "text": [
            "      Country     Capital Population\n",
            "0  Costa Rica     4500000        NaN\n",
            "1       India  1303171035        NaN\n",
            "2      Brazil   207847528        NaN\n"
          ]
        }
      ]
    },
    {
      "cell_type": "markdown",
      "source": [
        "Ejemplo 2"
      ],
      "metadata": {
        "id": "JXL4viHJuOE0"
      }
    },
    {
      "cell_type": "code",
      "source": [
        "print(\"Promedio de los elementos del vector\")\n",
        "Suma = 0\n",
        "Media = 0\n",
        "Temp = []\n",
        "\n",
        "print(\"Ingrese cantidad de Temperaturas\")\n",
        "N = int(input())\n",
        "\n",
        "for i in range (N):\n",
        "  temperatura = float(input(\"Ingrese la temperatura: \"))\n",
        "  Temp.append(temperatura)\n",
        "  Suma = Suma + Temp[i]\n",
        "\n",
        "Media = Suma / N\n",
        "print(Media)"
      ],
      "metadata": {
        "colab": {
          "base_uri": "https://localhost:8080/"
        },
        "id": "A1qmbLoNrW-j",
        "outputId": "6aeed0a2-794d-4f14-bad5-04d3213f324e"
      },
      "execution_count": null,
      "outputs": [
        {
          "output_type": "stream",
          "name": "stdout",
          "text": [
            "Promedio de los elementos del vector\n",
            "Ingrese cantidad de Temperaturas\n",
            "4\n",
            "Ingrese la temperatura15\n",
            "Ingrese la temperatura23\n",
            "Ingrese la temperatura45\n",
            "Ingrese la temperatura9\n",
            "23.0\n"
          ]
        }
      ]
    },
    {
      "cell_type": "markdown",
      "source": [
        "Ejemplo 3"
      ],
      "metadata": {
        "id": "ZsyInju4uX8K"
      }
    },
    {
      "cell_type": "code",
      "source": [
        "import pandas as pd\n",
        "\n",
        "mascota = pd.DataFrame(\n",
        "    data = {\n",
        "        'name': ['Minimo', 'Milo', 'Snoopy', 'Blanco', 'LittlePony'],\n",
        "        'type': ['gato', 'perro', 'perro', 'perro', 'caballo']\n",
        "    },\n",
        "    index = [71, 42, 11, 98, 42]\n",
        ")\n",
        "\n",
        "visitas = pd.DataFrame(\n",
        "    data = {\n",
        "        'pet_id': [42, 31, 71, 42, 98, 42],\n",
        "        'fecha': ['2019-03-15', '2019-03-15', '2019-04-05', '2019-04-06', '2019-04-12', '2019-05-31'],\n",
        "        'costo': [2000, 5000, 1000, 5000, 6000, 10000]\n",
        "    }\n",
        ")\n",
        "\n",
        "mascota.index.rename('pet_id', inplace = True)\n",
        "visitas.index.rename('visit_id', inplace = True)\n",
        "print(mascota.query('pet_id==71'))\n",
        "print(\"Costo suma: \", visitas['costo'].sum())\n",
        "print(\"Costo minimo: \",visitas['costo'].min())\n",
        "print(\"Costo maximo: \",visitas['costo'].max())\n",
        "\n",
        "print(visitas)\n",
        "\n",
        "print(visitas.sort_values(by = 'costo', ascending = False))\n",
        "tienda = pd.merge(mascota, visitas, how = 'cross')\n",
        "print(tienda)"
      ],
      "metadata": {
        "colab": {
          "base_uri": "https://localhost:8080/"
        },
        "id": "JvPU6_2CuaqS",
        "outputId": "1cd167f3-0190-4eac-b596-81b23307fda3"
      },
      "execution_count": null,
      "outputs": [
        {
          "output_type": "stream",
          "name": "stdout",
          "text": [
            "          name  type\n",
            "pet_id              \n",
            "71      Minimo  gato\n",
            "Costo suma:  29000\n",
            "Costo minimo:  1000\n",
            "Costo maximo:  10000\n",
            "          pet_id       fecha  costo\n",
            "visit_id                           \n",
            "0             42  2019-03-15   2000\n",
            "1             31  2019-03-15   5000\n",
            "2             71  2019-04-05   1000\n",
            "3             42  2019-04-06   5000\n",
            "4             98  2019-04-12   6000\n",
            "5             42  2019-05-31  10000\n",
            "          pet_id       fecha  costo\n",
            "visit_id                           \n",
            "5             42  2019-05-31  10000\n",
            "4             98  2019-04-12   6000\n",
            "1             31  2019-03-15   5000\n",
            "3             42  2019-04-06   5000\n",
            "0             42  2019-03-15   2000\n",
            "2             71  2019-04-05   1000\n",
            "          name     type  pet_id       fecha  costo\n",
            "0       Minimo     gato      42  2019-03-15   2000\n",
            "1       Minimo     gato      31  2019-03-15   5000\n",
            "2       Minimo     gato      71  2019-04-05   1000\n",
            "3       Minimo     gato      42  2019-04-06   5000\n",
            "4       Minimo     gato      98  2019-04-12   6000\n",
            "5       Minimo     gato      42  2019-05-31  10000\n",
            "6         Milo    perro      42  2019-03-15   2000\n",
            "7         Milo    perro      31  2019-03-15   5000\n",
            "8         Milo    perro      71  2019-04-05   1000\n",
            "9         Milo    perro      42  2019-04-06   5000\n",
            "10        Milo    perro      98  2019-04-12   6000\n",
            "11        Milo    perro      42  2019-05-31  10000\n",
            "12      Snoopy    perro      42  2019-03-15   2000\n",
            "13      Snoopy    perro      31  2019-03-15   5000\n",
            "14      Snoopy    perro      71  2019-04-05   1000\n",
            "15      Snoopy    perro      42  2019-04-06   5000\n",
            "16      Snoopy    perro      98  2019-04-12   6000\n",
            "17      Snoopy    perro      42  2019-05-31  10000\n",
            "18      Blanco    perro      42  2019-03-15   2000\n",
            "19      Blanco    perro      31  2019-03-15   5000\n",
            "20      Blanco    perro      71  2019-04-05   1000\n",
            "21      Blanco    perro      42  2019-04-06   5000\n",
            "22      Blanco    perro      98  2019-04-12   6000\n",
            "23      Blanco    perro      42  2019-05-31  10000\n",
            "24  LittlePony  caballo      42  2019-03-15   2000\n",
            "25  LittlePony  caballo      31  2019-03-15   5000\n",
            "26  LittlePony  caballo      71  2019-04-05   1000\n",
            "27  LittlePony  caballo      42  2019-04-06   5000\n",
            "28  LittlePony  caballo      98  2019-04-12   6000\n",
            "29  LittlePony  caballo      42  2019-05-31  10000\n"
          ]
        }
      ]
    },
    {
      "cell_type": "code",
      "execution_count": null,
      "metadata": {
        "colab": {
          "base_uri": "https://localhost:8080/"
        },
        "id": "8hb6nFMrmUxz",
        "outputId": "18b4e281-862d-4f15-b989-2c0b5843899f"
      },
      "outputs": [
        {
          "output_type": "stream",
          "name": "stdout",
          "text": [
            "    Nombre  Edad    Ciudad Seccion\n",
            "0      Ana    23  San Jose       A\n",
            "1  Esteban    22   Heredia       B\n",
            "2     Juan    22   Cartago       A\n",
            "3    Karla    22     Limon       A\n",
            "4  Ernesto    21   Heredia       B\n",
            "Ingrese el valor a buscar: Edad\n",
            "0    23\n",
            "1    22\n",
            "2    22\n",
            "3    22\n",
            "4    21\n",
            "Name: Edad, dtype: int64\n"
          ]
        }
      ],
      "source": [
        "#Ejercicio 1\n",
        "import pandas as pd\n",
        "\n",
        "students = [('Ana', 23, 'San Jose', 'A'), \n",
        "            ('Esteban', 22, 'Heredia', 'B'), \n",
        "            ('Juan', 22, 'Cartago', 'A'), \n",
        "            ('Karla', 22, 'Limon', 'A'), \n",
        "            ('Ernesto',21,'Heredia','B')]\n",
        "\n",
        "df = pd.DataFrame(students, columns = ['Nombre', 'Edad', 'Ciudad', 'Seccion'])\n",
        "\n",
        "\n",
        "#Ejercicio 2\n",
        "print(df)\n",
        "\n",
        "#Ejercicio 3\n",
        "def infoCol(col):\n",
        "  print(df.loc[:,col])\n",
        "\n",
        "columna = (input(\"Ingrese el valor a buscar: \"))\n",
        "infoCol(columna)"
      ]
    },
    {
      "cell_type": "code",
      "source": [
        "#Ejercicio 4\n",
        "\n",
        "def getIndexes(dfObj, value):\n",
        "  listOfPos = []\n",
        "  result = dfObj.isin([value])\n",
        "  seriesObj = result.any()\n",
        "  columnNames = list(seriesObj[seriesObj == True].index)\n",
        "\n",
        "  for col in columnNames:\n",
        "    rows = list(result[col][result[col] == True].index)\n",
        "\n",
        "    for row in rows:\n",
        "      listOfPos.append((row,col))\n",
        "\n",
        "  return listOfPos\n",
        "\n",
        "#Ejercicio 5\n",
        "#print(getIndexes(dataframe, valor))\n",
        "\n",
        "#Ejercicio 6\n",
        "listOfPositions = getIndexes(df, 'A')\n",
        "print('Index positions of 22 in DataFrame: ')\n",
        "for i in range(len(listOfPositions)):\n",
        "  print(listOfPositions[i])\n",
        "\n",
        "\n",
        "#Ejercicio 7\n",
        "listOfPositions = getIndexes(df, 21)\n",
        "print('Index de Prueba: ')\n",
        "for i in range(len(listOfPositions)):\n",
        "  print(listOfPositions[i])"
      ],
      "metadata": {
        "colab": {
          "base_uri": "https://localhost:8080/"
        },
        "id": "FY-BTqSlo1qm",
        "outputId": "73b58bf7-70b2-4aa1-c62e-ed31a9b731cd"
      },
      "execution_count": null,
      "outputs": [
        {
          "output_type": "stream",
          "name": "stdout",
          "text": [
            "Index positions of 22 in DataFrame: \n",
            "(0, 'Seccion')\n",
            "(2, 'Seccion')\n",
            "(3, 'Seccion')\n",
            "Index positions of 22 in DataFrame: \n",
            "(4, 'Edad')\n"
          ]
        }
      ]
    },
    {
      "cell_type": "code",
      "source": [
        "#Ejercicio 8\n",
        "import pandas as pd\n",
        "\n",
        "proyecto = [('Antigua and Barbuda', 2000, 44.0, 9.6), \n",
        "            ('Argentina', 2017, 39.0, 6.2), \n",
        "            ('Bahamas', 2007, 77.0, 8.6), \n",
        "            ('Canada', 2010, 11.0, 3.8), \n",
        "            ('Chile', 2012, 17.0, 5.3)]\n",
        "\n",
        "dfProyecto = pd.DataFrame(proyecto, columns = ['País', 'Annio', 'Tasa Mortalidad Materna', 'Tasa Mortalidad Neonatal'])\n",
        "\n",
        "print(getIndexes(dfProyecto, 'Chile'))"
      ],
      "metadata": {
        "colab": {
          "base_uri": "https://localhost:8080/"
        },
        "id": "9X9rORIfzwB1",
        "outputId": "602f977e-f3fe-416e-d0ea-4db42b207dce"
      },
      "execution_count": null,
      "outputs": [
        {
          "output_type": "stream",
          "name": "stdout",
          "text": [
            "[(4, 'País')]\n"
          ]
        }
      ]
    },
    {
      "cell_type": "code",
      "source": [
        "#Equipo de Python\n",
        "#Nicole Arias Lizano\n",
        "#Tiffanny Fernandez Soto\n",
        "#Alexa Rios Mora"
      ],
      "metadata": {
        "id": "3mjzVWmv2RhX"
      },
      "execution_count": null,
      "outputs": []
    }
  ]
}