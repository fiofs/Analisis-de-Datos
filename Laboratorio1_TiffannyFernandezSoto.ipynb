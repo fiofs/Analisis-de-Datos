{
  "nbformat": 4,
  "nbformat_minor": 0,
  "metadata": {
    "colab": {
      "provenance": [],
      "authorship_tag": "ABX9TyMiyePv3Y2J+KGS2+4HXdVm",
      "include_colab_link": true
    },
    "kernelspec": {
      "name": "python3",
      "display_name": "Python 3"
    },
    "language_info": {
      "name": "python"
    }
  },
  "cells": [
    {
      "cell_type": "markdown",
      "metadata": {
        "id": "view-in-github",
        "colab_type": "text"
      },
      "source": [
        "<a href=\"https://colab.research.google.com/github/fiofs/Analisis-de-Datos/blob/main/Laboratorio1_TiffannyFernandezSoto.ipynb\" target=\"_parent\"><img src=\"https://colab.research.google.com/assets/colab-badge.svg\" alt=\"Open In Colab\"/></a>"
      ]
    },
    {
      "cell_type": "code",
      "execution_count": null,
      "metadata": {
        "colab": {
          "base_uri": "https://localhost:8080/"
        },
        "id": "oNrOJu-4HLWh",
        "outputId": "599df463-f511-4595-cef4-aa47878f3a49"
      },
      "outputs": [
        {
          "output_type": "stream",
          "name": "stdout",
          "text": [
            "Ejercicio #1 Calcular distancia\n",
            "Ingrese la velocidad y el tiempo de la unidad movil\n",
            "Ingrese la velocidad: 10\n",
            "Ingrese el tiempo: 5\n",
            "La distancia es: 50.0\n"
          ]
        }
      ],
      "source": [
        "print(\"Ejercicio #1 Calcular distancia\")\n",
        "print(\"Ingrese la velocidad y el tiempo de la unidad movil\")\n",
        "v = float(input(\"Ingrese la velocidad: \"))\n",
        "t = float(input(\"Ingrese el tiempo: \"))\n",
        "print(\"La distancia es: \"+str(v*t))"
      ]
    },
    {
      "cell_type": "code",
      "source": [
        "print(\"Ejercicio #2 Promedio notas\")\n",
        "nota1 = float(input(\"Ingrese la primer nota: \"))\n",
        "nota2 = int(input(\"Ingrese la segunda nota: \"))\n",
        "nota3 = int(input(\"Ingrese la tercer nota: \"))\n",
        "print(\"El promedio de las notas es: \"+str((nota1+nota2+nota3)/3))"
      ],
      "metadata": {
        "colab": {
          "base_uri": "https://localhost:8080/"
        },
        "id": "NOzvC6uMIZrt",
        "outputId": "8c871a17-9e91-4f0a-d54d-db727fc9d2cd"
      },
      "execution_count": null,
      "outputs": [
        {
          "output_type": "stream",
          "name": "stdout",
          "text": [
            "Ejercicio #2 Promedio notas\n",
            "Ingrese la primer nota: 80\n",
            "Ingrese la segunda nota: 85\n",
            "Ingrese la tercer nota: 90\n",
            "El promedio de las notas es: 85.0\n"
          ]
        }
      ]
    },
    {
      "cell_type": "code",
      "source": [
        "print(\"Ejercicio #3 Puntos Respuestas\")\n",
        "rc = int(input(\"Ingrese el numero de respuestas correctas: \"))\n",
        "ri = int(input(\"Ingrese el numero de respuestas incorrectas: \"))\n",
        "rb = int(input(\"Ingrese el numero de respuestas en blanco: \"))\n",
        "print(\"El Puntaje Final es: \"+str((rc*3+ri*-1+rb*0)))"
      ],
      "metadata": {
        "colab": {
          "base_uri": "https://localhost:8080/"
        },
        "id": "peb1rUL4J-x0",
        "outputId": "3401aa60-58eb-4963-8c6a-71aa89625c39"
      },
      "execution_count": null,
      "outputs": [
        {
          "output_type": "stream",
          "name": "stdout",
          "text": [
            "Ejercicio #3 Puntos Respuestas\n",
            "Ingrese el numero de respuestas correctas: 2\n",
            "Ingrese el numero de respuestas incorrectas: 1\n",
            "Ingrese el numero de respuestas en blanco: 3\n",
            "El Puntaje Final es: 5\n"
          ]
        }
      ]
    }
  ]
}