{
  "nbformat": 4,
  "nbformat_minor": 0,
  "metadata": {
    "colab": {
      "provenance": [],
      "authorship_tag": "ABX9TyMwGq+adKmbAfUlmxz7YY6R",
      "include_colab_link": true
    },
    "kernelspec": {
      "name": "python3",
      "display_name": "Python 3"
    },
    "language_info": {
      "name": "python"
    }
  },
  "cells": [
    {
      "cell_type": "markdown",
      "metadata": {
        "id": "view-in-github",
        "colab_type": "text"
      },
      "source": [
        "<a href=\"https://colab.research.google.com/github/fiofs/Analisis-de-Datos/blob/main/Laboratorio_2_TiffannyFernandez.ipynb\" target=\"_parent\"><img src=\"https://colab.research.google.com/assets/colab-badge.svg\" alt=\"Open In Colab\"/></a>"
      ]
    },
    {
      "cell_type": "code",
      "execution_count": null,
      "metadata": {
        "colab": {
          "base_uri": "https://localhost:8080/"
        },
        "id": "5_nU7UIR3Fh_",
        "outputId": "209c9ff4-eeb5-4ffd-a8b4-6efcef0d6d57"
      },
      "outputs": [
        {
          "output_type": "stream",
          "name": "stdout",
          "text": [
            "---------------------------------------------------------------------\n",
            "Ejemplo2: IMPRIMIR EL MENOR DE DOS NÚMEROS.\n",
            "---------------------------------------------------------------------\n",
            "Ingrese 2 números: \n",
            "Primer número: 2\n",
            "Segundo número: 3\n",
            "\n",
            "SALIDA: \n",
            "---------------------------------------------------------------------\n",
            "El menor es:  2\n"
          ]
        }
      ],
      "source": [
        "#Decoración: Nombre del Algoritmo\n",
        "print(\"---------------------------------------------------------------------\")\n",
        "print(\"Ejemplo2: IMPRIMIR EL MENOR DE DOS NÚMEROS.\")\n",
        "print(\"---------------------------------------------------------------------\")\n",
        "#Entradas\n",
        "print(\"Ingrese 2 números: \")\n",
        "x = int(input(\"Primer número: \"))\n",
        "y = int(input(\"Segundo número: \"))\n",
        "print(\"\\nSALIDA: \")\n",
        "print(\"---------------------------------------------------------------------\")\n",
        "#NOTA: No olvidarse de la identación\n",
        "if x > y:\n",
        "  #Esto esta dentro del IF\n",
        "  print(\"El menor es: \",y)\n",
        "else:\n",
        "  #Esto esta dentro del ELSE\n",
        "  print(\"El menor es: \",x)"
      ]
    },
    {
      "cell_type": "code",
      "source": [
        "#SWITCH\n",
        "switcher = {1:\"Enero\",2:\"Febrero\",3:\"Marzo\",4:\"Abril\",5:\"Mayo\",6:\"Junio\",7:\"Julio\",8:\"Agosto\",9:\"Septiembre\",10:\"Octubre\",11:\"Noviembre\",12:\"Diciembre\"}\n",
        "\n",
        "argument = int(input(\"Ingrese un número: \"))\n",
        "nameMes = switcher.get(argument,\"Mes Inválido\")\n",
        "print(nameMes)"
      ],
      "metadata": {
        "colab": {
          "base_uri": "https://localhost:8080/"
        },
        "id": "WmC6wC2R65Lj",
        "outputId": "a3aadb1a-0ef3-4248-b78b-44a3b30c42c2"
      },
      "execution_count": null,
      "outputs": [
        {
          "output_type": "stream",
          "name": "stdout",
          "text": [
            "Ingrese un número: 5\n",
            "Mayo\n"
          ]
        }
      ]
    }
  ]
}